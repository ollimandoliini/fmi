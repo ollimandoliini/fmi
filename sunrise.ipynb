{
 "cells": [
  {
   "cell_type": "code",
   "execution_count": 1,
   "metadata": {},
   "outputs": [],
   "source": [
    "import requests\n",
    "from timezonefinder import TimezoneFinder\n",
    "import pytz\n",
    "import datetime\n"
   ]
  },
  {
   "cell_type": "code",
   "execution_count": 2,
   "metadata": {},
   "outputs": [],
   "source": [
    "coords = (61.497753, 23.760954)"
   ]
  },
  {
   "cell_type": "code",
   "execution_count": 5,
   "metadata": {},
   "outputs": [],
   "source": [
    "def get_timezone(coords):\n",
    "    tf = TimezoneFinder()\n",
    "    latitude, longitude = coords\n",
    "    timezone_name = tf.timezone_at(lng=longitude, lat=latitude)\n",
    "    timezone_object = pytz.timezone(timezone_name)\n",
    "    return timezone_object"
   ]
  },
  {
   "cell_type": "code",
   "execution_count": 6,
   "metadata": {},
   "outputs": [
    {
     "data": {
      "text/plain": [
       "<DstTzInfo 'Europe/Helsinki' LMT+1:40:00 STD>"
      ]
     },
     "execution_count": 6,
     "metadata": {},
     "output_type": "execute_result"
    }
   ],
   "source": [
    "get_timezone(coords)"
   ]
  },
  {
   "cell_type": "code",
   "execution_count": 57,
   "metadata": {},
   "outputs": [],
   "source": [
    "def get_daytime_data(coords, date='today'):\n",
    "    SUNRISE_SUNSET_API = f'https://api.sunrise-sunset.org/json?lat={coords[0]}&lng={coords[1]}&formatted=0&date={date}'\n",
    "    return requests.get(SUNRISE_SUNSET_API).json()\n"
   ]
  },
  {
   "cell_type": "code",
   "execution_count": 58,
   "metadata": {},
   "outputs": [],
   "source": [
    "def parse_to_local_time(iso8601, tz):\n",
    "    dt = datetime.datetime.fromisoformat(iso8601)\n",
    "    return pytz.utc.normalize(dt).astimezone(tz)"
   ]
  },
  {
   "cell_type": "code",
   "execution_count": 43,
   "metadata": {},
   "outputs": [],
   "source": [
    "timezone = get_timezone(coords)\n",
    "today_daytime_data = get_daytime_data(coords)\n",
    "sunrise_today = parse_to_local_time(today_daytime_data['results']['sunrise'], timezone)\n",
    "sunset_today = parse_to_local_time(today_daytime_data['results']['sunset'], timezone)\n",
    "\n",
    "sunrise_today.strftime('%H:%M:%S')\n",
    "sunset_today.strftime('%H:%M:%S')\n",
    "\n",
    "day_length_today = datetime.timedelta(seconds=today_daytime_data['results']['day_length'])\n",
    "\n",
    "yesterday_daytime_data = get_daytime_data(coords, date=datetime.datetime.today() - datetime.timedelta(1))\n",
    "day_length_yesterday = datetime.timedelta(seconds=yesterday_daytime_data['results']['day_length'])\n",
    "\n",
    "day_before_yesterday_daytime_data = get_daytime_data(coords, date=datetime.datetime.today() - datetime.timedelta(2))\n",
    "day_length_before_yesterday = datetime.timedelta(seconds=day_before_yesterday_daytime_data['results']['day_length'])\n"
   ]
  },
  {
   "cell_type": "code",
   "execution_count": 39,
   "metadata": {},
   "outputs": [
    {
     "name": "stdout",
     "output_type": "stream",
     "text": [
      "5:31:10\n"
     ]
    }
   ],
   "source": [
    "print(day_length_today)"
   ]
  },
  {
   "cell_type": "code",
   "execution_count": 38,
   "metadata": {},
   "outputs": [
    {
     "name": "stdout",
     "output_type": "stream",
     "text": [
      "5:29:16\n"
     ]
    }
   ],
   "source": [
    "print(day_length_yesterday)"
   ]
  },
  {
   "cell_type": "code",
   "execution_count": 44,
   "metadata": {},
   "outputs": [
    {
     "name": "stdout",
     "output_type": "stream",
     "text": [
      "5:27:34\n"
     ]
    }
   ],
   "source": [
    "print(day_length_before_yesterday)"
   ]
  },
  {
   "cell_type": "code",
   "execution_count": 49,
   "metadata": {},
   "outputs": [],
   "source": [
    "delta = abs((day_length_today - day_length_yesterday) - (day_length_yesterday - day_length_before_yesterday))"
   ]
  },
  {
   "cell_type": "code",
   "execution_count": 52,
   "metadata": {},
   "outputs": [
    {
     "data": {
      "text/plain": [
       "12"
      ]
     },
     "execution_count": 52,
     "metadata": {},
     "output_type": "execute_result"
    }
   ],
   "source": [
    "delta.seconds"
   ]
  },
  {
   "cell_type": "code",
   "execution_count": 40,
   "metadata": {},
   "outputs": [],
   "source": [
    "change = day_length_today - day_length_yesterday"
   ]
  },
  {
   "cell_type": "code",
   "execution_count": 55,
   "metadata": {},
   "outputs": [
    {
     "data": {
      "text/plain": [
       "'0:01:54'"
      ]
     },
     "execution_count": 55,
     "metadata": {},
     "output_type": "execute_result"
    }
   ],
   "source": [
    "str(change)"
   ]
  },
  {
   "cell_type": "code",
   "execution_count": 26,
   "metadata": {},
   "outputs": [
    {
     "name": "stdout",
     "output_type": "stream",
     "text": [
      "15:13:35\n"
     ]
    }
   ],
   "source": [
    "print(sunset_today.strftime('%H:%M:%S'))"
   ]
  },
  {
   "cell_type": "code",
   "execution_count": 28,
   "metadata": {},
   "outputs": [
    {
     "name": "stdout",
     "output_type": "stream",
     "text": [
      "0:11:06\n"
     ]
    }
   ],
   "source": [
    "print(datetime.timedelta(seconds=666))"
   ]
  },
  {
   "cell_type": "code",
   "execution_count": null,
   "metadata": {},
   "outputs": [],
   "source": [
    "print(sunrise_today)"
   ]
  },
  {
   "cell_type": "code",
   "execution_count": 95,
   "metadata": {},
   "outputs": [
    {
     "data": {
      "text/plain": [
       "datetime.datetime(2019, 12, 31, 7, 42, 25, tzinfo=datetime.timezone.utc)"
      ]
     },
     "execution_count": 95,
     "metadata": {},
     "output_type": "execute_result"
    }
   ],
   "source": [
    "sunrise_today"
   ]
  },
  {
   "cell_type": "code",
   "execution_count": null,
   "metadata": {},
   "outputs": [],
   "source": []
  },
  {
   "cell_type": "code",
   "execution_count": null,
   "metadata": {},
   "outputs": [],
   "source": []
  },
  {
   "cell_type": "code",
   "execution_count": 83,
   "metadata": {},
   "outputs": [
    {
     "data": {
      "text/plain": [
       "19870"
      ]
     },
     "execution_count": 83,
     "metadata": {},
     "output_type": "execute_result"
    }
   ],
   "source": [
    "today['results']['day_length']"
   ]
  },
  {
   "cell_type": "code",
   "execution_count": 71,
   "metadata": {},
   "outputs": [],
   "source": [
    "today = datetime.datetime.fromisoformat('2019-12-31T13:13:35+00:00')"
   ]
  },
  {
   "cell_type": "code",
   "execution_count": 69,
   "metadata": {},
   "outputs": [
    {
     "data": {
      "text/plain": [
       "{'results': {'sunrise': '2019-12-31T07:42:25+00:00',\n",
       "  'sunset': '2019-12-31T13:13:35+00:00',\n",
       "  'solar_noon': '2019-12-31T10:28:00+00:00',\n",
       "  'day_length': 19870,\n",
       "  'civil_twilight_begin': '2019-12-31T06:40:23+00:00',\n",
       "  'civil_twilight_end': '2019-12-31T14:15:37+00:00',\n",
       "  'nautical_twilight_begin': '2019-12-31T05:40:23+00:00',\n",
       "  'nautical_twilight_end': '2019-12-31T15:15:38+00:00',\n",
       "  'astronomical_twilight_begin': '2019-12-31T04:46:26+00:00',\n",
       "  'astronomical_twilight_end': '2019-12-31T16:09:35+00:00'},\n",
       " 'status': 'OK'}"
      ]
     },
     "execution_count": 69,
     "metadata": {},
     "output_type": "execute_result"
    }
   ],
   "source": [
    "get_daytime_data(coords)"
   ]
  },
  {
   "cell_type": "code",
   "execution_count": 117,
   "metadata": {},
   "outputs": [
    {
     "data": {
      "text/plain": [
       "<DstTzInfo 'Europe/Helsinki' LMT+1:40:00 STD>"
      ]
     },
     "execution_count": 117,
     "metadata": {},
     "output_type": "execute_result"
    }
   ],
   "source": [
    "tz = pytz.timezone('Europe/Helsinki')\n",
    "tz"
   ]
  },
  {
   "cell_type": "code",
   "execution_count": 74,
   "metadata": {},
   "outputs": [
    {
     "data": {
      "text/plain": [
       "datetime.datetime(2019, 12, 31, 15, 13, 35, tzinfo=<DstTzInfo 'Europe/Helsinki' EET+2:00:00 STD>)"
      ]
     },
     "execution_count": 74,
     "metadata": {},
     "output_type": "execute_result"
    }
   ],
   "source": [
    "pytz.utc.normalize(today).astimezone(tz)"
   ]
  },
  {
   "cell_type": "code",
   "execution_count": 15,
   "metadata": {},
   "outputs": [
    {
     "data": {
      "text/plain": [
       "{'results': {'sunrise': '2019-12-31T07:42:25+00:00',\n",
       "  'sunset': '2019-12-31T13:13:35+00:00',\n",
       "  'solar_noon': '2019-12-31T10:28:00+00:00',\n",
       "  'day_length': 19870,\n",
       "  'civil_twilight_begin': '2019-12-31T06:40:23+00:00',\n",
       "  'civil_twilight_end': '2019-12-31T14:15:37+00:00',\n",
       "  'nautical_twilight_begin': '2019-12-31T05:40:23+00:00',\n",
       "  'nautical_twilight_end': '2019-12-31T15:15:38+00:00',\n",
       "  'astronomical_twilight_begin': '2019-12-31T04:46:26+00:00',\n",
       "  'astronomical_twilight_end': '2019-12-31T16:09:35+00:00'},\n",
       " 'status': 'OK'}"
      ]
     },
     "execution_count": 15,
     "metadata": {},
     "output_type": "execute_result"
    }
   ],
   "source": [
    "get_daytime_data(coords)"
   ]
  },
  {
   "cell_type": "code",
   "execution_count": null,
   "metadata": {},
   "outputs": [],
   "source": []
  }
 ],
 "metadata": {
  "file_extension": ".py",
  "kernelspec": {
   "display_name": "Python 3",
   "language": "python",
   "name": "python3"
  },
  "language_info": {
   "codemirror_mode": {
    "name": "ipython",
    "version": 3
   },
   "file_extension": ".py",
   "mimetype": "text/x-python",
   "name": "python",
   "nbconvert_exporter": "python",
   "pygments_lexer": "ipython3",
   "version": "3.7.3"
  },
  "mimetype": "text/x-python",
  "name": "python",
  "npconvert_exporter": "python",
  "pygments_lexer": "ipython3",
  "version": 3
 },
 "nbformat": 4,
 "nbformat_minor": 2
}
