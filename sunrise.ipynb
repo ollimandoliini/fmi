{
 "cells": [
  {
   "cell_type": "code",
   "execution_count": 2,
   "metadata": {},
   "outputs": [],
   "source": [
    "import requests\n",
    "from timezonefinder import TimezoneFinder\n",
    "import pytz\n",
    "import datetime\n",
    "import os\n",
    "import requests\n",
    "from PIL import Image, ImageFont, ImageDraw\n",
    "from IPython.display import display\n",
    "from io import BytesIO\n"
   ]
  },
  {
   "cell_type": "code",
   "execution_count": 86,
   "metadata": {},
   "outputs": [],
   "source": [
    "TAMPERE = 61.497753, 23.760954\n",
    "STOCKHOLM = 59.334591, 18.063240"
   ]
  },
  {
   "cell_type": "code",
   "execution_count": 4,
   "metadata": {},
   "outputs": [],
   "source": [
    "def get_timezone(coords):\n",
    "    tf = TimezoneFinder()\n",
    "    latitude, longitude = coords\n",
    "    timezone_name = tf.timezone_at(lng=longitude, lat=latitude)\n",
    "    timezone_object = pytz.timezone(timezone_name)\n",
    "    return timezone_object"
   ]
  },
  {
   "cell_type": "code",
   "execution_count": 54,
   "metadata": {},
   "outputs": [],
   "source": [
    "def get_daytime_data(coords, date='today'):\n",
    "    lat, long = coords\n",
    "    sunrise_sunset_api_url = f'https://api.sunrise-sunset.org/json?lat={lat}&lng={long}&formatted=0&date={date}'\n",
    "    return requests.get(sunrise_sunset_api_url).json()\n"
   ]
  },
  {
   "cell_type": "code",
   "execution_count": 8,
   "metadata": {},
   "outputs": [],
   "source": [
    "def parse_to_local_time(iso8601, tz):\n",
    "    dt = datetime.datetime.fromisoformat(iso8601)\n",
    "    return pytz.utc.normalize(dt).astimezone(tz)"
   ]
  },
  {
   "cell_type": "code",
   "execution_count": 84,
   "metadata": {},
   "outputs": [],
   "source": [
    "def day_length_info_string(coords):\n",
    "    timezone = get_timezone(coords)\n",
    "    today_daytime_data = get_daytime_data(coords)\n",
    "    sunrise_today = parse_to_local_time(today_daytime_data['results']['sunrise'], timezone)\n",
    "    sunset_today = parse_to_local_time(today_daytime_data['results']['sunset'], timezone)\n",
    "\n",
    "    day_length_today = datetime.timedelta(seconds=today_daytime_data['results']['day_length'])\n",
    "\n",
    "    yesterday_daytime_data = get_daytime_data(coords, date=datetime.datetime.today() - datetime.timedelta(1))\n",
    "    day_length_yesterday = datetime.timedelta(seconds=yesterday_daytime_data['results']['day_length'])\n",
    "\n",
    "    day_before_yesterday_daytime_data = get_daytime_data(coords, date=datetime.datetime.today() - datetime.timedelta(2))\n",
    "    day_length_before_yesterday = datetime.timedelta(seconds=day_before_yesterday_daytime_data['results']['day_length'])\n",
    "\n",
    "    sunrise_today_str = sunrise_today.strftime('%H:%M:%S')\n",
    "    sunset_today_str = sunset_today.strftime('%H:%M:%S')\n",
    "    change_str = str(day_length_today - day_length_yesterday)\n",
    "    delta = abs((day_length_today - day_length_yesterday) - (day_length_yesterday - day_length_before_yesterday))\n",
    "    \n",
    "    return (f\"Nousu: {sunrise_today_str:>10}\\n\"\n",
    "            f\"Lasku: {sunset_today_str:>10}\\n\"\n",
    "            f\"Pituus: {str(day_length_today):>9}\\n\"\n",
    "            f\"Muutos: {change_str:>9}\\n\"\n",
    "            f\"Delta: {str(delta):>10}\")\n",
    "    \n"
   ]
  },
  {
   "cell_type": "code",
   "execution_count": 150,
   "metadata": {
    "scrolled": true
   },
   "outputs": [],
   "source": [
    "img = Image.new('RGB', (750, 350), color='white')\n",
    "draw = ImageDraw.Draw(img)\n",
    "font_heading = ImageFont.truetype(\"Helvetica.ttc\", 48)\n",
    "font_body = ImageFont.truetype(\"jetbrains-mono.ttf\", 32)\n",
    "\n",
    "draw.text((75, 10),\"Tampere\",(0,0,0), font=font_heading)\n",
    "draw.text((475, 10), \"Stockholm\",(0,0,0), font=font_heading)\n",
    "\n",
    "draw.text((0, 80), day_length_info_string(TAMPERE) ,(0,0,0), font=font_body)\n",
    "draw.text((400, 80), day_length_info_string(STOCKHOLM) ,(0,0,0), font=font_body)\n",
    "\n",
    "flag_finland = Image.open('flag-finland.png', 'r').resize((64, 64), Image.ANTIALIAS)\n",
    "img.paste(flag_finland, (0,0), flag_finland)\n",
    "\n",
    "flag_sweden = Image.open('flag-sweden.png', 'r').resize((64, 64), Image.ANTIALIAS)\n",
    "img.paste(flag_sweden, (400,0), flag_sweden)\n",
    "\n",
    "fd = BytesIO()\n",
    "img.save(fd, \"png\", quality=95)\n"
   ]
  },
  {
   "cell_type": "code",
   "execution_count": 158,
   "metadata": {},
   "outputs": [],
   "source": [
    "os.environ['BOT_KEY'] = 'bot700928179:AAGJuu8ubwHhpYhkG5LzlFJzglafsyQoJmw'\n",
    "os.environ['CHAT_ID'] = '-248024980'"
   ]
  },
  {
   "cell_type": "code",
   "execution_count": 153,
   "metadata": {},
   "outputs": [],
   "source": [
    "fd.seek(0)\n",
    "files = {'photo': fd.read()}"
   ]
  },
  {
   "cell_type": "code",
   "execution_count": 159,
   "metadata": {},
   "outputs": [],
   "source": [
    "data = {'chat_id': os.environ['CHAT_ID']}"
   ]
  },
  {
   "cell_type": "code",
   "execution_count": 155,
   "metadata": {},
   "outputs": [],
   "source": [
    "url = f\"https://api.telegram.org/{os.environ['BOT_KEY']}/sendPhoto\""
   ]
  },
  {
   "cell_type": "code",
   "execution_count": 156,
   "metadata": {},
   "outputs": [
    {
     "data": {
      "text/plain": [
       "b'{\"ok\":true,\"result\":{\"message_id\":1376,\"from\":{\"id\":700928179,\"is_bot\":true,\"first_name\":\"Yleisbotti\",\"username\":\"vuokrabot\"},\"chat\":{\"id\":-248024980,\"title\":\"AURINKOA CHAT \\\\u2600\",\"type\":\"group\",\"all_members_are_administrators\":true},\"date\":1581169277,\"photo\":[{\"file_id\":\"AgACAgQAAxkDAAIFYF4-un0i86OYdCLd2IKpGyhbLOJtAAIDsTEbmpH5Ue91vmkHNWLPoEi2GwAEAQADAgADbQADYNUCAAEYBA\",\"file_unique_id\":\"AQADoEi2GwAEYNUCAAE\",\"file_size\":15755,\"width\":320,\"height\":149},{\"file_id\":\"AgACAgQAAxkDAAIFYF4-un0i86OYdCLd2IKpGyhbLOJtAAIDsTEbmpH5Ue91vmkHNWLPoEi2GwAEAQADAgADeAADYdUCAAEYBA\",\"file_unique_id\":\"AQADoEi2GwAEYdUCAAE\",\"file_size\":46194,\"width\":750,\"height\":350}]}}'"
      ]
     },
     "execution_count": 156,
     "metadata": {},
     "output_type": "execute_result"
    }
   ],
   "source": [
    "requests.post(url, data=data, files=files).content"
   ]
  },
  {
   "cell_type": "code",
   "execution_count": null,
   "metadata": {},
   "outputs": [],
   "source": []
  }
 ],
 "metadata": {
  "file_extension": ".py",
  "kernelspec": {
   "display_name": "Python 3",
   "language": "python",
   "name": "python3"
  },
  "language_info": {
   "codemirror_mode": {
    "name": "ipython",
    "version": 3
   },
   "file_extension": ".py",
   "mimetype": "text/x-python",
   "name": "python",
   "nbconvert_exporter": "python",
   "pygments_lexer": "ipython3",
   "version": "3.7.3"
  },
  "mimetype": "text/x-python",
  "name": "python",
  "npconvert_exporter": "python",
  "pygments_lexer": "ipython3",
  "version": 3
 },
 "nbformat": 4,
 "nbformat_minor": 2
}
